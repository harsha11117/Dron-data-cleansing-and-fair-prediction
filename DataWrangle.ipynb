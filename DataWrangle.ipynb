{
 "cells": [
  {
   "cell_type": "markdown",
   "metadata": {},
   "source": [
    "# FIT5196 Assessment 2\n",
    "## Task : Data Cleansing\n",
    "#### Student Name: Harshavardhan Reddy Mallypally\n",
    "\n",
    "Date: 02/10/2018\n",
    "\n",
    "Juypter version 5.5.0\n",
    "\n",
    "Environment: Python 3.6.0 and Anaconda 5.2.0 (64-bit)\n",
    "\n",
    "Packages used:\n",
    "* Pandas \n",
    "* matplot\n",
    "* Seaborn\n",
    "* Navie Bayes from sklearn package\n",
    "* numpy\n",
    "* norm from scipy.stats package"
   ]
  },
  {
   "cell_type": "markdown",
   "metadata": {},
   "source": [
    "\n",
    "# 1. Introduction to Data cleansing:\n",
    "\n",
    "Data cleansing is an iterative process. The first step of the cleansing process is data auditing. In this step, we identify the types of anomalies that reduce the data quality.  Data auditing is about programmatically checking the data using some validation rules that are pre-specified, and then creating a report of the quality of the data and its problems. We often apply some statistical tests in this step for examining the data.\n",
    "Data Anomalies can be classified at a high level into three categories:\n",
    "\n",
    "1. **Syntactic Anomalies**: \n",
    "\n",
    "2. **Semantic Anomalies**: \n",
    "\n",
    "3. **Coverage Anomalies**: \n",
    "decrease the amount of entities and entity properties from the mini-world that are represented in the data collection. Coverage anomalies are categorized as: missing values and missing tuples.\n"
   ]
  },
  {
   "cell_type": "markdown",
   "metadata": {},
   "source": [
    "### 1.1 Importing Required Packages"
   ]
  },
  {
   "cell_type": "code",
   "execution_count": 1,
   "metadata": {},
   "outputs": [],
   "source": [
    "# importing packages\n",
    "import pandas as pd\n",
    "import matplotlib.pyplot as plt\n",
    "import seaborn as sns\n",
    "import numpy as np\n",
    "import re\n",
    "from scipy.stats import norm\n",
    "from sklearn.naive_bayes import GaussianNB"
   ]
  },
  {
   "cell_type": "markdown",
   "metadata": {},
   "source": [
    "### 1.2 Loading the Drone data csv file as Dataframe. "
   ]
  },
  {
   "cell_type": "code",
   "execution_count": 2,
   "metadata": {},
   "outputs": [
    {
     "data": {
      "text/html": [
       "<div>\n",
       "<style scoped>\n",
       "    .dataframe tbody tr th:only-of-type {\n",
       "        vertical-align: middle;\n",
       "    }\n",
       "\n",
       "    .dataframe tbody tr th {\n",
       "        vertical-align: top;\n",
       "    }\n",
       "\n",
       "    .dataframe thead th {\n",
       "        text-align: right;\n",
       "    }\n",
       "</style>\n",
       "<table border=\"1\" class=\"dataframe\">\n",
       "  <thead>\n",
       "    <tr style=\"text-align: right;\">\n",
       "      <th></th>\n",
       "      <th>Id</th>\n",
       "      <th>Drone Type</th>\n",
       "      <th>Post Type</th>\n",
       "      <th>Package Weight</th>\n",
       "      <th>Origin Region</th>\n",
       "      <th>Destination Region</th>\n",
       "      <th>Origin Latitude</th>\n",
       "      <th>Origin Longitude</th>\n",
       "      <th>Destination Latitude</th>\n",
       "      <th>Destination Longitude</th>\n",
       "      <th>Journey Distance</th>\n",
       "      <th>Departure Date</th>\n",
       "      <th>Departure Time</th>\n",
       "      <th>Travel Time</th>\n",
       "      <th>Delivery Time</th>\n",
       "      <th>Delivery Fare</th>\n",
       "    </tr>\n",
       "  </thead>\n",
       "  <tbody>\n",
       "    <tr>\n",
       "      <th>0</th>\n",
       "      <td>ID5339642557</td>\n",
       "      <td>1.0</td>\n",
       "      <td>1.0</td>\n",
       "      <td>30.143</td>\n",
       "      <td>1.0</td>\n",
       "      <td>50.0</td>\n",
       "      <td>-38.532296</td>\n",
       "      <td>145.046106</td>\n",
       "      <td>-38.363338</td>\n",
       "      <td>147.572334</td>\n",
       "      <td>221.033</td>\n",
       "      <td>2018-04-26</td>\n",
       "      <td>03:31:12</td>\n",
       "      <td>224.38</td>\n",
       "      <td>7:15:34</td>\n",
       "      <td>174.12</td>\n",
       "    </tr>\n",
       "    <tr>\n",
       "      <th>1</th>\n",
       "      <td>ID5815082582</td>\n",
       "      <td>NaN</td>\n",
       "      <td>1.0</td>\n",
       "      <td>17.397</td>\n",
       "      <td>8.0</td>\n",
       "      <td>20.0</td>\n",
       "      <td>-38.129209</td>\n",
       "      <td>144.175086</td>\n",
       "      <td>-38.009586</td>\n",
       "      <td>147.773925</td>\n",
       "      <td>315.649</td>\n",
       "      <td>2018-05-23</td>\n",
       "      <td>02:23:57</td>\n",
       "      <td>249.92</td>\n",
       "      <td>6:33:52</td>\n",
       "      <td>255.05</td>\n",
       "    </tr>\n",
       "    <tr>\n",
       "      <th>2</th>\n",
       "      <td>ID1185924383</td>\n",
       "      <td>1.0</td>\n",
       "      <td>0.0</td>\n",
       "      <td>24.605</td>\n",
       "      <td>56.0</td>\n",
       "      <td>1.0</td>\n",
       "      <td>-36.944105</td>\n",
       "      <td>144.659460</td>\n",
       "      <td>-38.435770</td>\n",
       "      <td>144.897623</td>\n",
       "      <td>167.368</td>\n",
       "      <td>2018-02-22</td>\n",
       "      <td>00:47:28</td>\n",
       "      <td>171.59</td>\n",
       "      <td>3:39:03</td>\n",
       "      <td>130.97</td>\n",
       "    </tr>\n",
       "    <tr>\n",
       "      <th>3</th>\n",
       "      <td>ID5298612264</td>\n",
       "      <td>1.0</td>\n",
       "      <td>1.0</td>\n",
       "      <td>12.460</td>\n",
       "      <td>28.0</td>\n",
       "      <td>4.0</td>\n",
       "      <td>-36.586243</td>\n",
       "      <td>144.327389</td>\n",
       "      <td>-38.770686</td>\n",
       "      <td>147.942019</td>\n",
       "      <td>400.622</td>\n",
       "      <td>2018-05-14</td>\n",
       "      <td>16:20:04</td>\n",
       "      <td>401.02</td>\n",
       "      <td>23:01:05</td>\n",
       "      <td>167.84</td>\n",
       "    </tr>\n",
       "    <tr>\n",
       "      <th>4</th>\n",
       "      <td>ID1786439932</td>\n",
       "      <td>NaN</td>\n",
       "      <td>0.0</td>\n",
       "      <td>11.279</td>\n",
       "      <td>40.0</td>\n",
       "      <td>58.0</td>\n",
       "      <td>-36.844829</td>\n",
       "      <td>145.153432</td>\n",
       "      <td>-36.840708</td>\n",
       "      <td>145.771079</td>\n",
       "      <td>55.025</td>\n",
       "      <td>2018-06-21</td>\n",
       "      <td>07:03:12</td>\n",
       "      <td>61.09</td>\n",
       "      <td>8:04:17</td>\n",
       "      <td>89.23</td>\n",
       "    </tr>\n",
       "  </tbody>\n",
       "</table>\n",
       "</div>"
      ],
      "text/plain": [
       "             Id  Drone Type  Post Type  Package Weight  Origin Region  \\\n",
       "0  ID5339642557         1.0        1.0          30.143            1.0   \n",
       "1  ID5815082582         NaN        1.0          17.397            8.0   \n",
       "2  ID1185924383         1.0        0.0          24.605           56.0   \n",
       "3  ID5298612264         1.0        1.0          12.460           28.0   \n",
       "4  ID1786439932         NaN        0.0          11.279           40.0   \n",
       "\n",
       "   Destination Region  Origin Latitude  Origin Longitude  \\\n",
       "0                50.0       -38.532296        145.046106   \n",
       "1                20.0       -38.129209        144.175086   \n",
       "2                 1.0       -36.944105        144.659460   \n",
       "3                 4.0       -36.586243        144.327389   \n",
       "4                58.0       -36.844829        145.153432   \n",
       "\n",
       "   Destination Latitude  Destination Longitude  Journey Distance  \\\n",
       "0            -38.363338             147.572334           221.033   \n",
       "1            -38.009586             147.773925           315.649   \n",
       "2            -38.435770             144.897623           167.368   \n",
       "3            -38.770686             147.942019           400.622   \n",
       "4            -36.840708             145.771079            55.025   \n",
       "\n",
       "  Departure Date Departure Time  Travel Time Delivery Time  Delivery Fare  \n",
       "0     2018-04-26       03:31:12       224.38       7:15:34         174.12  \n",
       "1     2018-05-23       02:23:57       249.92       6:33:52         255.05  \n",
       "2     2018-02-22       00:47:28       171.59       3:39:03         130.97  \n",
       "3     2018-05-14       16:20:04       401.02      23:01:05         167.84  \n",
       "4     2018-06-21       07:03:12        61.09       8:04:17          89.23  "
      ]
     },
     "execution_count": 2,
     "metadata": {},
     "output_type": "execute_result"
    }
   ],
   "source": [
    "# reading the data\n",
    "Drone_data = pd.read_csv(\"29424143.csv\")\n",
    "# Shows glipmse of the data\n",
    "Drone_data.head()"
   ]
  },
  {
   "cell_type": "markdown",
   "metadata": {},
   "source": [
    "### 1.3 Understanding the Drone data in Dataframe using info() command\n",
    "\n",
    "This data is about the drones deliverying the packages across the victoria. Its has 16 columns and 37503 rows. Some of the columns have missing values that can be found by looking at the output from the .info() command on dataframe."
   ]
  },
  {
   "cell_type": "code",
   "execution_count": 3,
   "metadata": {
    "scrolled": true
   },
   "outputs": [
    {
     "name": "stdout",
     "output_type": "stream",
     "text": [
      "<class 'pandas.core.frame.DataFrame'>\n",
      "RangeIndex: 37503 entries, 0 to 37502\n",
      "Data columns (total 16 columns):\n",
      "Id                       37479 non-null object\n",
      "Drone Type               37493 non-null float64\n",
      "Post Type                37483 non-null float64\n",
      "Package Weight           37503 non-null float64\n",
      "Origin Region            37493 non-null float64\n",
      "Destination Region       37493 non-null float64\n",
      "Origin Latitude          37503 non-null float64\n",
      "Origin Longitude         37503 non-null float64\n",
      "Destination Latitude     37503 non-null float64\n",
      "Destination Longitude    37503 non-null float64\n",
      "Journey Distance         37503 non-null float64\n",
      "Departure Date           37503 non-null object\n",
      "Departure Time           37503 non-null object\n",
      "Travel Time              37463 non-null float64\n",
      "Delivery Time            37503 non-null object\n",
      "Delivery Fare            37473 non-null float64\n",
      "dtypes: float64(12), object(4)\n",
      "memory usage: 4.6+ MB\n"
     ]
    }
   ],
   "source": [
    "# Prints the columns and their datatype and any missing values in columns.\n",
    "Drone_data.info()"
   ]
  },
  {
   "cell_type": "markdown",
   "metadata": {},
   "source": [
    "### 1.4 Understanding the numerical data in dataframe\n",
    "Using describe() on dataframe we can find that how the data is distributed in each column. "
   ]
  },
  {
   "cell_type": "code",
   "execution_count": 4,
   "metadata": {},
   "outputs": [
    {
     "data": {
      "text/html": [
       "<div>\n",
       "<style scoped>\n",
       "    .dataframe tbody tr th:only-of-type {\n",
       "        vertical-align: middle;\n",
       "    }\n",
       "\n",
       "    .dataframe tbody tr th {\n",
       "        vertical-align: top;\n",
       "    }\n",
       "\n",
       "    .dataframe thead th {\n",
       "        text-align: right;\n",
       "    }\n",
       "</style>\n",
       "<table border=\"1\" class=\"dataframe\">\n",
       "  <thead>\n",
       "    <tr style=\"text-align: right;\">\n",
       "      <th></th>\n",
       "      <th>Drone Type</th>\n",
       "      <th>Post Type</th>\n",
       "      <th>Package Weight</th>\n",
       "      <th>Origin Region</th>\n",
       "      <th>Destination Region</th>\n",
       "      <th>Origin Latitude</th>\n",
       "      <th>Origin Longitude</th>\n",
       "      <th>Destination Latitude</th>\n",
       "      <th>Destination Longitude</th>\n",
       "      <th>Journey Distance</th>\n",
       "      <th>Travel Time</th>\n",
       "      <th>Delivery Fare</th>\n",
       "    </tr>\n",
       "  </thead>\n",
       "  <tbody>\n",
       "    <tr>\n",
       "      <th>count</th>\n",
       "      <td>37493.000000</td>\n",
       "      <td>37483.000000</td>\n",
       "      <td>37503.000000</td>\n",
       "      <td>37493.000000</td>\n",
       "      <td>37493.000000</td>\n",
       "      <td>37503.000000</td>\n",
       "      <td>37503.000000</td>\n",
       "      <td>37503.000000</td>\n",
       "      <td>37503.000000</td>\n",
       "      <td>37503.000000</td>\n",
       "      <td>37463.000000</td>\n",
       "      <td>37473.000000</td>\n",
       "    </tr>\n",
       "    <tr>\n",
       "      <th>mean</th>\n",
       "      <td>1.699224</td>\n",
       "      <td>0.297602</td>\n",
       "      <td>22.683268</td>\n",
       "      <td>30.014909</td>\n",
       "      <td>30.037740</td>\n",
       "      <td>-37.734959</td>\n",
       "      <td>145.477795</td>\n",
       "      <td>-37.730947</td>\n",
       "      <td>145.468884</td>\n",
       "      <td>215.289185</td>\n",
       "      <td>206.567101</td>\n",
       "      <td>160.882739</td>\n",
       "    </tr>\n",
       "    <tr>\n",
       "      <th>std</th>\n",
       "      <td>0.778271</td>\n",
       "      <td>0.457209</td>\n",
       "      <td>10.360222</td>\n",
       "      <td>17.057747</td>\n",
       "      <td>17.073488</td>\n",
       "      <td>1.905936</td>\n",
       "      <td>6.933525</td>\n",
       "      <td>1.897005</td>\n",
       "      <td>6.937635</td>\n",
       "      <td>112.577098</td>\n",
       "      <td>106.150366</td>\n",
       "      <td>60.429067</td>\n",
       "    </tr>\n",
       "    <tr>\n",
       "      <th>min</th>\n",
       "      <td>1.000000</td>\n",
       "      <td>0.000000</td>\n",
       "      <td>5.000000</td>\n",
       "      <td>1.000000</td>\n",
       "      <td>1.000000</td>\n",
       "      <td>-39.005998</td>\n",
       "      <td>-148.346462</td>\n",
       "      <td>-39.006377</td>\n",
       "      <td>-147.663963</td>\n",
       "      <td>0.269000</td>\n",
       "      <td>7.200000</td>\n",
       "      <td>75.760000</td>\n",
       "    </tr>\n",
       "    <tr>\n",
       "      <th>25%</th>\n",
       "      <td>1.000000</td>\n",
       "      <td>0.000000</td>\n",
       "      <td>13.780000</td>\n",
       "      <td>15.000000</td>\n",
       "      <td>15.000000</td>\n",
       "      <td>-38.425663</td>\n",
       "      <td>144.182754</td>\n",
       "      <td>-38.417080</td>\n",
       "      <td>144.171718</td>\n",
       "      <td>127.956500</td>\n",
       "      <td>124.735000</td>\n",
       "      <td>129.100000</td>\n",
       "    </tr>\n",
       "    <tr>\n",
       "      <th>50%</th>\n",
       "      <td>2.000000</td>\n",
       "      <td>0.000000</td>\n",
       "      <td>22.474000</td>\n",
       "      <td>30.000000</td>\n",
       "      <td>30.000000</td>\n",
       "      <td>-37.788792</td>\n",
       "      <td>145.690317</td>\n",
       "      <td>-37.791929</td>\n",
       "      <td>145.684804</td>\n",
       "      <td>203.545000</td>\n",
       "      <td>193.840000</td>\n",
       "      <td>154.310000</td>\n",
       "    </tr>\n",
       "    <tr>\n",
       "      <th>75%</th>\n",
       "      <td>2.000000</td>\n",
       "      <td>1.000000</td>\n",
       "      <td>31.458000</td>\n",
       "      <td>45.000000</td>\n",
       "      <td>45.000000</td>\n",
       "      <td>-37.100586</td>\n",
       "      <td>147.151859</td>\n",
       "      <td>-37.095141</td>\n",
       "      <td>147.150549</td>\n",
       "      <td>291.016500</td>\n",
       "      <td>276.630000</td>\n",
       "      <td>183.000000</td>\n",
       "    </tr>\n",
       "    <tr>\n",
       "      <th>max</th>\n",
       "      <td>3.000000</td>\n",
       "      <td>1.000000</td>\n",
       "      <td>49.998000</td>\n",
       "      <td>59.000000</td>\n",
       "      <td>59.000000</td>\n",
       "      <td>38.992066</td>\n",
       "      <td>148.450819</td>\n",
       "      <td>38.855810</td>\n",
       "      <td>148.450819</td>\n",
       "      <td>556.434000</td>\n",
       "      <td>546.800000</td>\n",
       "      <td>1211.100000</td>\n",
       "    </tr>\n",
       "  </tbody>\n",
       "</table>\n",
       "</div>"
      ],
      "text/plain": [
       "         Drone Type     Post Type  Package Weight  Origin Region  \\\n",
       "count  37493.000000  37483.000000    37503.000000   37493.000000   \n",
       "mean       1.699224      0.297602       22.683268      30.014909   \n",
       "std        0.778271      0.457209       10.360222      17.057747   \n",
       "min        1.000000      0.000000        5.000000       1.000000   \n",
       "25%        1.000000      0.000000       13.780000      15.000000   \n",
       "50%        2.000000      0.000000       22.474000      30.000000   \n",
       "75%        2.000000      1.000000       31.458000      45.000000   \n",
       "max        3.000000      1.000000       49.998000      59.000000   \n",
       "\n",
       "       Destination Region  Origin Latitude  Origin Longitude  \\\n",
       "count        37493.000000     37503.000000      37503.000000   \n",
       "mean            30.037740       -37.734959        145.477795   \n",
       "std             17.073488         1.905936          6.933525   \n",
       "min              1.000000       -39.005998       -148.346462   \n",
       "25%             15.000000       -38.425663        144.182754   \n",
       "50%             30.000000       -37.788792        145.690317   \n",
       "75%             45.000000       -37.100586        147.151859   \n",
       "max             59.000000        38.992066        148.450819   \n",
       "\n",
       "       Destination Latitude  Destination Longitude  Journey Distance  \\\n",
       "count          37503.000000           37503.000000      37503.000000   \n",
       "mean             -37.730947             145.468884        215.289185   \n",
       "std                1.897005               6.937635        112.577098   \n",
       "min              -39.006377            -147.663963          0.269000   \n",
       "25%              -38.417080             144.171718        127.956500   \n",
       "50%              -37.791929             145.684804        203.545000   \n",
       "75%              -37.095141             147.150549        291.016500   \n",
       "max               38.855810             148.450819        556.434000   \n",
       "\n",
       "        Travel Time  Delivery Fare  \n",
       "count  37463.000000   37473.000000  \n",
       "mean     206.567101     160.882739  \n",
       "std      106.150366      60.429067  \n",
       "min        7.200000      75.760000  \n",
       "25%      124.735000     129.100000  \n",
       "50%      193.840000     154.310000  \n",
       "75%      276.630000     183.000000  \n",
       "max      546.800000    1211.100000  "
      ]
     },
     "execution_count": 4,
     "metadata": {},
     "output_type": "execute_result"
    }
   ],
   "source": [
    "# print all statictal data of every numerical column\n",
    "Drone_data.describe()"
   ]
  },
  {
   "cell_type": "markdown",
   "metadata": {},
   "source": [
    "### 1.5 Understanding the Relationship between all the columns \n",
    "\n",
    "Here, I found the interesting relationships those are:\n",
    "   * Drone Type has some relation with Travel Time and Delivery Fare.\n",
    "   * Delivery Fare has some relation with Travel time, Journey Distance, Package weight, Post type and Drone Type.\n",
    "\n",
    "Below diagram helps me to find the best approach to address missing errors in the data"
   ]
  },
  {
   "cell_type": "code",
   "execution_count": 5,
   "metadata": {},
   "outputs": [
    {
     "data": {
      "image/png": "[encoded data removed]",
      "text/plain": [
       "<Figure size 432x288 with 2 Axes>"
      ]
     },
     "metadata": {},
     "output_type": "display_data"
    }
   ],
   "source": [
    "# corr holds the correlation matrix of all columns in dataframe\n",
    "corr = Drone_data.corr()\n",
    "# visulaizing them to diffe\n",
    "sns.heatmap(corr, \n",
    "            xticklabels=corr.columns.values,\n",
    "            yticklabels=corr.columns.values)\n",
    "plt.show()"
   ]
  },
  {
   "cell_type": "markdown",
   "metadata": {},
   "source": [
    "## 1.6 Understanding more about the data by ploting actual realtions"
   ]
  },
  {
   "cell_type": "code",
   "execution_count": 6,
   "metadata": {},
   "outputs": [
    {
     "data": {
      "image/png": "[encoded data removed]",
      "text/plain": [
       "<Figure size 432x288 with 1 Axes>"
      ]
     },
     "metadata": {},
     "output_type": "display_data"
    }
   ],
   "source": [
    "plt.scatter(Drone_data['Package Weight'],Drone_data['Delivery Fare'])\n",
    "plt.show()"
   ]
  },
  {
   "cell_type": "markdown",
   "metadata": {},
   "source": [
    "From above plot, we can understand that Delivery Fare relation changes with Package weight as package weight is greater than 40.\n",
    "\n",
    "From the below plot, It is clear that if package weight greater than 40 Delivery Fare depends on the journey distance\n",
    "and if package weight is less than 40 then based on drone type and journey distance we can estimate the delivery fare."
   ]
  },
  {
   "cell_type": "code",
   "execution_count": 7,
   "metadata": {},
   "outputs": [
    {
     "data": {
      "image/png": "[encoded data removed]",
      "text/plain": [
       "<Figure size 432x288 with 4 Axes>"
      ]
     },
     "metadata": {},
     "output_type": "display_data"
    }
   ],
   "source": [
    "fig = plt.figure()\n",
    "plt.subplot(2,2,1)\n",
    "tem1_df = Drone_data[Drone_data['Package Weight']>40]\n",
    "plt.scatter(tem1_df['Delivery Fare'],tem1_df['Journey Distance'])\n",
    "plt.subplot(2,2,2)\n",
    "tem2_df = Drone_data[(Drone_data['Package Weight']<40)&(Drone_data['Drone Type']==1.0) ]\n",
    "plt.scatter(tem2_df['Delivery Fare'],tem2_df['Journey Distance'])\n",
    "plt.subplot(2,2,3)\n",
    "tem2_df = Drone_data[(Drone_data['Package Weight']<40)&(Drone_data['Drone Type']==2.0) ]\n",
    "plt.scatter(tem2_df['Delivery Fare'],tem2_df['Journey Distance'])\n",
    "plt.subplot(2,2,4)\n",
    "tem2_df = Drone_data[(Drone_data['Package Weight']<40)&(Drone_data['Drone Type']==3.0) ]\n",
    "plt.scatter(tem2_df['Delivery Fare'],tem2_df['Journey Distance'])\n",
    "plt.show()"
   ]
  },
  {
   "cell_type": "markdown",
   "metadata": {},
   "source": [
    "From the above graphs we can see some outliers which has to be address since some of the drone types are wrongly represented."
   ]
  },
  {
   "cell_type": "markdown",
   "metadata": {},
   "source": [
    "# 2. **Syntactic Anomalies**: \n",
    "describe characteristics concerning the format and values used for representation of the entities. Syntactic anomalies such as: lexical errors, domain format errors, syntactical error and irregularities.\n",
    "\n",
    "## 2.1 Syntactic Errors in Departure date format\n",
    "\n",
    "It quite common that dates might have some syntactic errors. Since, The departure column has all dates of 2018 year. I looked into the calender and cross checked any abnormal dates in departure date column.\n",
    "\n",
    "We all know that month can't be more than the 12. So, The months with greater than 12 has to be replaced. Other than month, day and year are in with in the range."
   ]
  },
  {
   "cell_type": "code",
   "execution_count": 8,
   "metadata": {},
   "outputs": [
    {
     "name": "stdout",
     "output_type": "stream",
     "text": [
      "[ 4.  5.  2.  6.  3.  7.  1. 14. 17. 18. 23. 13. 28. 22. 19. 20. 25. 21.\n",
      " 16. 27. 24. 26. 15.]\n"
     ]
    }
   ],
   "source": [
    "# Function to find get the months of dates from the departure date column.\n",
    "def monthchecker(s):\n",
    "    month = s.split('-')[1]\n",
    "    return float(month)\n",
    "# Applied the monthchecker function and stored the months in new column.\n",
    "Drone_data['month'] = Drone_data['Departure Date'].apply(monthchecker)\n",
    "# Prints all unique months in month column\n",
    "print(pd.unique(Drone_data['month']))"
   ]
  },
  {
   "cell_type": "code",
   "execution_count": 9,
   "metadata": {},
   "outputs": [
    {
     "name": "stdout",
     "output_type": "stream",
     "text": [
      "949     2018-14-07\n",
      "1050    2018-17-06\n",
      "1190    2018-18-02\n",
      "1215    2018-23-02\n",
      "2975    2018-13-07\n",
      "3037    2018-28-07\n",
      "3060    2018-17-01\n",
      "3140    2018-22-03\n",
      "3222    2018-28-03\n",
      "3232    2018-14-05\n",
      "3290    2018-18-02\n",
      "4520    2018-28-06\n",
      "4971    2018-19-02\n",
      "4975    2018-19-06\n",
      "5052    2018-19-06\n",
      "5336    2018-20-06\n",
      "6994    2018-25-04\n",
      "6995    2018-28-06\n",
      "7231    2018-13-07\n",
      "7247    2018-28-06\n",
      "7323    2018-21-07\n",
      "7369    2018-16-01\n",
      "9061    2018-28-03\n",
      "9153    2018-25-01\n",
      "Name: Departure Date, dtype: object\n"
     ]
    }
   ],
   "source": [
    "# Prints first 25 dates with month greater than 12\n",
    "print(Drone_data[Drone_data['month']>12]['Departure Date'][1:25])"
   ]
  },
  {
   "cell_type": "markdown",
   "metadata": {},
   "source": [
    "Since, we can't impute whatever the values we want in data. Suprisingly, I found that all month greater than 12 has their days less than 12. So, I replaced all months with the days.\n",
    "\n",
    "Here, months and days are swapped. I swapped them back to clear syntactic error in the dates using dateformatter function.\n",
    "By using dataformatter I cleared all the month erros in deprature date"
   ]
  },
  {
   "cell_type": "code",
   "execution_count": 10,
   "metadata": {},
   "outputs": [],
   "source": [
    "# Defined dateformatter function to clear all month error in departure date\n",
    "def dateformatter(s):\n",
    "    date_split = s.split('-')\n",
    "    if int(date_split[1])>12:\n",
    "        temp = date_split[1]\n",
    "        date_split[1] = date_split[2]\n",
    "        date_split[2] = temp\n",
    "        return (\"-\").join(date_split)\n",
    "    else:\n",
    "        return (\"-\").join(date_split)\n",
    "\n",
    "# Applied dateformatter function on the departure column of dataframe to clear month value greater than 12\n",
    "Drone_data['Departure Date'] = Drone_data['Departure Date'].apply(dateformatter)\n",
    "\n",
    "# Dropped month column. since we no need of that\n",
    "Drone_data = Drone_data.drop(columns=['month'])"
   ]
  },
  {
   "cell_type": "markdown",
   "metadata": {},
   "source": [
    "## 2.2 Syntactic error in Delivery Time and Departure Time cloumns"
   ]
  },
  {
   "cell_type": "code",
   "execution_count": 11,
   "metadata": {},
   "outputs": [
    {
     "name": "stdout",
     "output_type": "stream",
     "text": [
      "['03' '02' '00' '16' '07' '10' '23' '15' '21' '17' '05' '01' '12' '14'\n",
      " '06' '13' '18' '20' '04' '19' '09' '08' '11' '22' '0' '8' '5' '1' '4' '3'\n",
      " '2']\n"
     ]
    }
   ],
   "source": [
    "# Defined timechecker function to check hours format\n",
    "def timechecker(s):\n",
    "    time_split = s.split(':')\n",
    "    return time_split[0]\n",
    "Drone_data['hours'] = Drone_data['Departure Time'].apply(timechecker)\n",
    "# Prints all unique values in hours column created above.\n",
    "print(pd.unique(Drone_data['hours']))"
   ]
  },
  {
   "cell_type": "markdown",
   "metadata": {},
   "source": [
    "From above cell output, we can find out that this hours **[ '0', '8', '5', '1', '4', '3' ]** are also represented as **[ '00', '08', '05', '01', '04', '03' ]** which a kind of syntactical error that has to be overcomed.\n",
    "\n",
    "Using the below hourcheck function I was able to clear all syntactical errors in both Departure Time and Delivery Time."
   ]
  },
  {
   "cell_type": "code",
   "execution_count": 12,
   "metadata": {},
   "outputs": [],
   "source": [
    "# Defined hourscheck function to clear all syntactical error in all rows of delivery time and departure time column.\n",
    "def hourcheck(s):\n",
    "    time_split = s.split(':')\n",
    "    if len(time_split[0])==1:\n",
    "        time_split[0]='0'+str(time_split[0])\n",
    "        return (':').join(time_split)\n",
    "    else:\n",
    "        return (':').join(time_split)\n",
    "    \n",
    "# Applying hourcheck function on Departure Time column\n",
    "Drone_data['Departure Time'] = Drone_data['Departure Time'].apply(hourcheck)\n",
    "# Applying hourcheck function on Delivery Time column\n",
    "Drone_data['Delivery Time'] = Drone_data['Delivery Time'].apply(hourcheck)\n",
    "# Dropped hours column in the dataframe\n",
    "Drone_data = Drone_data.drop(columns=['hours'])"
   ]
  },
  {
   "cell_type": "markdown",
   "metadata": {},
   "source": [
    "## 2.3 Syntactical Errors in Latitude and Longitude\n",
    "\n",
    "We can find syntactical errors in latitude and longitude by plotting them."
   ]
  },
  {
   "cell_type": "code",
   "execution_count": 13,
   "metadata": {},
   "outputs": [
    {
     "data": {
      "image/png": "[encoded data removed]",
      "text/plain": [
       "<Figure size 720x360 with 2 Axes>"
      ]
     },
     "metadata": {},
     "output_type": "display_data"
    }
   ],
   "source": [
    "# Ploting the Latitde vs longitude of orgin region\n",
    "fig = plt.figure(1)\n",
    "# Subplot to plot two plots \n",
    "plt.subplot(1,2,1)\n",
    "plt.scatter(Drone_data['Origin Latitude'],Drone_data['Origin Longitude'])\n",
    "plt.xlabel('Origin Latitude')\n",
    "plt.ylabel('Origin Longitude')\n",
    "\n",
    "plt.subplot(1,2,2)\n",
    "plt.scatter(Drone_data['Destination Latitude'],Drone_data['Destination Longitude'])\n",
    "plt.xlabel('Destination Latitude')\n",
    "plt.ylabel('Destination Longitude')\n",
    "fig.set_figheight(5)\n",
    "fig.set_figwidth(10)\n",
    "\n",
    "plt.show()"
   ]
  },
  {
   "cell_type": "markdown",
   "metadata": {},
   "source": [
    "From the above plots, I find the syntactical error in both since the graph should show the 59 regions instead I can see only two clusters."
   ]
  },
  {
   "cell_type": "markdown",
   "metadata": {},
   "source": [
    "## 2.3.1 Origin Latitude and Destination Latitude\n",
    "When I looked at the statstics of origin latitude and destination latitude I found that, max value is posistive. which is completely wrong since latitudes should be negative for a all region because drone delivery distance is upto max of 566km as per the data."
   ]
  },
  {
   "cell_type": "code",
   "execution_count": 14,
   "metadata": {},
   "outputs": [
    {
     "data": {
      "text/html": [
       "<div>\n",
       "<style scoped>\n",
       "    .dataframe tbody tr th:only-of-type {\n",
       "        vertical-align: middle;\n",
       "    }\n",
       "\n",
       "    .dataframe tbody tr th {\n",
       "        vertical-align: top;\n",
       "    }\n",
       "\n",
       "    .dataframe thead th {\n",
       "        text-align: right;\n",
       "    }\n",
       "</style>\n",
       "<table border=\"1\" class=\"dataframe\">\n",
       "  <thead>\n",
       "    <tr style=\"text-align: right;\">\n",
       "      <th></th>\n",
       "      <th>Origin Latitude</th>\n",
       "      <th>Destination Latitude</th>\n",
       "    </tr>\n",
       "  </thead>\n",
       "  <tbody>\n",
       "    <tr>\n",
       "      <th>count</th>\n",
       "      <td>37503.000000</td>\n",
       "      <td>37503.000000</td>\n",
       "    </tr>\n",
       "    <tr>\n",
       "      <th>mean</th>\n",
       "      <td>-37.734959</td>\n",
       "      <td>-37.730947</td>\n",
       "    </tr>\n",
       "    <tr>\n",
       "      <th>std</th>\n",
       "      <td>1.905936</td>\n",
       "      <td>1.897005</td>\n",
       "    </tr>\n",
       "    <tr>\n",
       "      <th>min</th>\n",
       "      <td>-39.005998</td>\n",
       "      <td>-39.006377</td>\n",
       "    </tr>\n",
       "    <tr>\n",
       "      <th>25%</th>\n",
       "      <td>-38.425663</td>\n",
       "      <td>-38.417080</td>\n",
       "    </tr>\n",
       "    <tr>\n",
       "      <th>50%</th>\n",
       "      <td>-37.788792</td>\n",
       "      <td>-37.791929</td>\n",
       "    </tr>\n",
       "    <tr>\n",
       "      <th>75%</th>\n",
       "      <td>-37.100586</td>\n",
       "      <td>-37.095141</td>\n",
       "    </tr>\n",
       "    <tr>\n",
       "      <th>max</th>\n",
       "      <td>38.992066</td>\n",
       "      <td>38.855810</td>\n",
       "    </tr>\n",
       "  </tbody>\n",
       "</table>\n",
       "</div>"
      ],
      "text/plain": [
       "       Origin Latitude  Destination Latitude\n",
       "count     37503.000000          37503.000000\n",
       "mean        -37.734959            -37.730947\n",
       "std           1.905936              1.897005\n",
       "min         -39.005998            -39.006377\n",
       "25%         -38.425663            -38.417080\n",
       "50%         -37.788792            -37.791929\n",
       "75%         -37.100586            -37.095141\n",
       "max          38.992066             38.855810"
      ]
     },
     "execution_count": 14,
     "metadata": {},
     "output_type": "execute_result"
    }
   ],
   "source": [
    "# Origin Latitude and Destination Latitude describe their statstics data\n",
    "Drone_data[['Origin Latitude', 'Destination Latitude']].describe()"
   ]
  },
  {
   "cell_type": "markdown",
   "metadata": {},
   "source": [
    "Since the some latitudes in both origin and destination are positive we can remove them by appling the below defined latitudefomatter function."
   ]
  },
  {
   "cell_type": "code",
   "execution_count": 15,
   "metadata": {},
   "outputs": [],
   "source": [
    "# Defined latitudeformatter function \n",
    "def latitudeformatter(x):\n",
    "    if x > 0.0:\n",
    "        return x*(-1)\n",
    "    else:\n",
    "        return x\n",
    "    \n",
    "# Applied latitudeformatter function on Origin Latitude column\n",
    "Drone_data['Origin Latitude'] = Drone_data['Origin Latitude'].apply(latitudeformatter)\n",
    "# Applied latitudeformatter function on Destination Latitude column\n",
    "Drone_data['Destination Latitude'] = Drone_data['Destination Latitude'].apply(latitudeformatter)"
   ]
  },
  {
   "cell_type": "markdown",
   "metadata": {},
   "source": [
    "## 2.3.2 Origin Longitude and Destination Longitude\n",
    "\n",
    "When I looked at the statstics of origin longitude and destination longitude I found that, min value is negative. which is completely wrong since longitude should be positive for a all region because drone delivery distance is upto max of 566km as per the data."
   ]
  },
  {
   "cell_type": "code",
   "execution_count": 16,
   "metadata": {},
   "outputs": [
    {
     "data": {
      "text/html": [
       "<div>\n",
       "<style scoped>\n",
       "    .dataframe tbody tr th:only-of-type {\n",
       "        vertical-align: middle;\n",
       "    }\n",
       "\n",
       "    .dataframe tbody tr th {\n",
       "        vertical-align: top;\n",
       "    }\n",
       "\n",
       "    .dataframe thead th {\n",
       "        text-align: right;\n",
       "    }\n",
       "</style>\n",
       "<table border=\"1\" class=\"dataframe\">\n",
       "  <thead>\n",
       "    <tr style=\"text-align: right;\">\n",
       "      <th></th>\n",
       "      <th>Origin Longitude</th>\n",
       "      <th>Destination Longitude</th>\n",
       "    </tr>\n",
       "  </thead>\n",
       "  <tbody>\n",
       "    <tr>\n",
       "      <th>count</th>\n",
       "      <td>37503.000000</td>\n",
       "      <td>37503.000000</td>\n",
       "    </tr>\n",
       "    <tr>\n",
       "      <th>mean</th>\n",
       "      <td>145.477795</td>\n",
       "      <td>145.468884</td>\n",
       "    </tr>\n",
       "    <tr>\n",
       "      <th>std</th>\n",
       "      <td>6.933525</td>\n",
       "      <td>6.937635</td>\n",
       "    </tr>\n",
       "    <tr>\n",
       "      <th>min</th>\n",
       "      <td>-148.346462</td>\n",
       "      <td>-147.663963</td>\n",
       "    </tr>\n",
       "    <tr>\n",
       "      <th>25%</th>\n",
       "      <td>144.182754</td>\n",
       "      <td>144.171718</td>\n",
       "    </tr>\n",
       "    <tr>\n",
       "      <th>50%</th>\n",
       "      <td>145.690317</td>\n",
       "      <td>145.684804</td>\n",
       "    </tr>\n",
       "    <tr>\n",
       "      <th>75%</th>\n",
       "      <td>147.151859</td>\n",
       "      <td>147.150549</td>\n",
       "    </tr>\n",
       "    <tr>\n",
       "      <th>max</th>\n",
       "      <td>148.450819</td>\n",
       "      <td>148.450819</td>\n",
       "    </tr>\n",
       "  </tbody>\n",
       "</table>\n",
       "</div>"
      ],
      "text/plain": [
       "       Origin Longitude  Destination Longitude\n",
       "count      37503.000000           37503.000000\n",
       "mean         145.477795             145.468884\n",
       "std            6.933525               6.937635\n",
       "min         -148.346462            -147.663963\n",
       "25%          144.182754             144.171718\n",
       "50%          145.690317             145.684804\n",
       "75%          147.151859             147.150549\n",
       "max          148.450819             148.450819"
      ]
     },
     "execution_count": 16,
     "metadata": {},
     "output_type": "execute_result"
    }
   ],
   "source": [
    "# Origin Latitude and Destination Longitude describe their statstics data\n",
    "Drone_data[['Origin Longitude', 'Destination Longitude']].describe()"
   ]
  },
  {
   "cell_type": "markdown",
   "metadata": {},
   "source": [
    "Since the some longitude in both origin and destination are negative we can remove them by appling the below defined longitudefomatter function."
   ]
  },
  {
   "cell_type": "code",
   "execution_count": 17,
   "metadata": {},
   "outputs": [],
   "source": [
    "# defined longitudeformatter function\n",
    "def longitudeformatter(x):\n",
    "    if x < 0:\n",
    "        return x*-1\n",
    "    else:\n",
    "        return x\n",
    "\n",
    "# Applied longitudeformatter function on both Origin Longitude and Destination longitude columns        \n",
    "Drone_data['Origin Longitude'] = Drone_data['Origin Longitude'].apply(longitudeformatter)\n",
    "Drone_data['Destination Longitude'] = Drone_data['Destination Longitude'].apply(longitudeformatter)"
   ]
  },
  {
   "cell_type": "markdown",
   "metadata": {},
   "source": [
    "## 2.3.3 Checking syntactical errors in the Latitude and Longitude columns"
   ]
  },
  {
   "cell_type": "code",
   "execution_count": 18,
   "metadata": {},
   "outputs": [
    {
     "data": {
      "image/png": "[encoded data removed]",
      "text/plain": [
       "<Figure size 720x360 with 2 Axes>"
      ]
     },
     "metadata": {},
     "output_type": "display_data"
    }
   ],
   "source": [
    "fig = plt.figure(1)\n",
    "plt.subplot(1,2,1)\n",
    "plt.scatter(Drone_data['Origin Latitude'],Drone_data['Origin Longitude'])\n",
    "plt.xlabel('Oringin Latitude')\n",
    "plt.ylabel('Origin Longitude')\n",
    "\n",
    "plt.subplot(1,2,2)\n",
    "plt.scatter(Drone_data['Destination Latitude'],Drone_data['Destination Longitude'])\n",
    "plt.xlabel('Destination Latitude')\n",
    "plt.ylabel('Destination Longitude')\n",
    "fig.set_figheight(5)\n",
    "fig.set_figwidth(10)\n",
    "\n",
    "\n",
    "plt.show()"
   ]
  },
  {
   "cell_type": "markdown",
   "metadata": {},
   "source": [
    "# 3. Semantic errors\n",
    "hinder the data collection from being a comprehensive and non-redundant representation of the mini-world. These types of anomalies include: Integrity constraint violations, contradictions, duplicates and invalid tuples."
   ]
  },
  {
   "cell_type": "markdown",
   "metadata": {},
   "source": [
    "## 3.1 Semantic error in Departure date\n",
    "\n",
    "We can't easily find semantic erros just like syntactical errors. Cause, They already are in correct format. We need to check for known existing dates. \n",
    "For that I used trial and error method like below."
   ]
  },
  {
   "cell_type": "code",
   "execution_count": 19,
   "metadata": {},
   "outputs": [
    {
     "name": "stdout",
     "output_type": "stream",
     "text": [
      "2018-02-30\n",
      "2018-04-31\n",
      "2018-06-31\n"
     ]
    }
   ],
   "source": [
    "print(Drone_data[Drone_data['Departure Date'] == '2018-02-30']['Departure Date'].any())\n",
    "print(Drone_data[Drone_data['Departure Date'] == '2018-04-31']['Departure Date'].any())\n",
    "print(Drone_data[Drone_data['Departure Date'] == '2018-06-31']['Departure Date'].any())"
   ]
  },
  {
   "cell_type": "markdown",
   "metadata": {},
   "source": [
    "So, result of above shows that there ar this kind of errors that has to be replaced with correct date. We can can't impute any random date into them. So, I thought that day values can be interchange like '30' to 03 just we did for the months. So, im replacing all wrong dates in Departure columns\n",
    "Eg: '2018-02-30' to '2018-02-03' and soon."
   ]
  },
  {
   "cell_type": "code",
   "execution_count": 20,
   "metadata": {},
   "outputs": [],
   "source": [
    "# Replace command replace values in a column of dataframe\n",
    "Drone_data['Departure Date'].replace({'2018-02-30': '2018-02-03','2018-04-31':'2018-04-13','2018-06-31':'2018-06-13'},inplace=True)"
   ]
  },
  {
   "cell_type": "markdown",
   "metadata": {},
   "source": [
    "## 3.2 Semantic errors in Origin region and Destination Region"
   ]
  },
  {
   "cell_type": "code",
   "execution_count": 21,
   "metadata": {},
   "outputs": [
    {
     "data": {
      "image/png": "[encoded data removed]",
      "text/plain": [
       "<Figure size 720x360 with 4 Axes>"
      ]
     },
     "metadata": {},
     "output_type": "display_data"
    }
   ],
   "source": [
    "# Plotting the latitude vs longitude based on each region \n",
    "fig = plt.figure(1)\n",
    "temp1 = Drone_data[Drone_data['Origin Region']==1.0]\n",
    "plt.subplot(2,2,1)\n",
    "plt.scatter(temp1['Origin Latitude'],temp1['Origin Longitude'])\n",
    "plt.xlabel('Oringin Latitude')\n",
    "plt.ylabel('Origin Longitude')\n",
    "plt.legend('Oigin region')\n",
    "\n",
    "temp1 = Drone_data[Drone_data['Origin Region']==12.0]\n",
    "plt.subplot(2,2,2)\n",
    "plt.scatter(temp1['Origin Latitude'],temp1['Origin Longitude'])\n",
    "plt.xlabel('Origin Latitude')\n",
    "plt.ylabel('Origin Longitude')\n",
    "plt.legend('Origin region')\n",
    "\n",
    "temp1 = Drone_data[Drone_data['Destination Region']==5.0]\n",
    "plt.subplot(2,2,3)\n",
    "plt.scatter(temp1['Destination Latitude'],temp1['Destination Longitude'])\n",
    "plt.xlabel('Destination Latitude')\n",
    "plt.ylabel('Destination Longitude')\n",
    "plt.legend('Destination region')\n",
    "\n",
    "temp1 = Drone_data[Drone_data['Destination Region']==34.0]\n",
    "plt.subplot(2,2,4)\n",
    "plt.scatter(temp1['Destination Latitude'],temp1['Destination Longitude'])\n",
    "plt.xlabel('Destination Latitude')\n",
    "plt.ylabel('Destination Longitude')\n",
    "plt.legend('Destination region')\n",
    "fig.set_figheight(5)\n",
    "fig.set_figwidth(10)\n",
    "\n",
    "\n",
    "plt.show()"
   ]
  },
  {
   "cell_type": "markdown",
   "metadata": {},
   "source": [
    "Drom the above plots, I say that some of the Region are uniformaly distributed just like the right most graphs and some regions has wrong location point which is clearly understood by looking at the graphs."
   ]
  },
  {
   "cell_type": "markdown",
   "metadata": {},
   "source": [
    "## 3.2.1 Origin error correction\n",
    "\n",
    "I created below algorithm correct the origin region clusters"
   ]
  },
  {
   "cell_type": "code",
   "execution_count": 22,
   "metadata": {},
   "outputs": [
    {
     "name": "stderr",
     "output_type": "stream",
     "text": [
      "/usr/local/lib/python3.5/dist-packages/pandas/core/groupby/groupby.py:4658: FutureWarning: using a dict with renaming is deprecated and will be removed in a future version\n",
      "  return super(DataFrameGroupBy, self).aggregate(arg, *args, **kwargs)\n"
     ]
    }
   ],
   "source": [
    "# Import math\n",
    "import math\n",
    "temp_df = pd.DataFrame(Drone_data)\n",
    "# created aggregate function to group the orgin data based on mean values of latitude and longitude\n",
    "aggregate = {'Origin Latitude' :{'latitude_mean': 'mean'},'Origin Longitude' :{'longitude_mean': 'mean'}}\n",
    "# created dataframe that has region and their mean latitude and longitude values\n",
    "region_mean = temp_df.groupby('Origin Region').agg(aggregate).reset_index()\n",
    "region_mean.columns = region_mean.columns.droplevel(0)\n",
    "region_mean.rename(columns = {'':'Region'},inplace = True)\n",
    "\n",
    "# Below code finds the point which has largest distance from the mean of the cluster and assign that point to the other cluster which mean is nreat to the point.\n",
    "for i in range(1,len(pd.unique(Drone_data[pd.notnull(Drone_data['Origin Region'])]['Origin Region']))+1):\n",
    "    temp=Drone_data[Drone_data['Origin Region']==float(i)].reset_index()\n",
    "    mean_X = temp['Origin Latitude'].mean()\n",
    "    mean_Y = temp['Origin Longitude'].mean()\n",
    "    dist=[]\n",
    "    for k in range(0,len(temp)):\n",
    "        x = (float(temp.loc[k,'Origin Latitude'])-mean_X)**2 + (float(temp.loc[k,'Origin Longitude']) - mean_Y)**2\n",
    "        dist.append(round(math.sqrt(abs(x)),3))\n",
    "    if round(max(dist),0) != 0:\n",
    "        ind = dist.index(max(dist))\n",
    "        temp_x=float(Drone_data.loc[temp.loc[ind,['index']],['Origin Latitude']]['Origin Latitude'])\n",
    "        temp_y = float(Drone_data.loc[temp.loc[ind,['index']],['Origin Longitude']]['Origin Longitude'])\n",
    "        distance=[]\n",
    "        for j in range(0,len(region_mean)):\n",
    "            x = (float(region_mean.loc[j,'latitude_mean'])-temp_x)**2 + (float(region_mean.loc[j,'longitude_mean']) - mean_Y)**2\n",
    "            distance.append(round(math.sqrt(abs(x)),3))\n",
    "        if round(min(distance),0) == 0:\n",
    "            min_ind = distance.index(min(distance))\n",
    "            Drone_data.loc[temp.loc[ind,['index']],['Origin Region']] = region_mean.loc[min_ind,['Region']] \n",
    "        "
   ]
  },
  {
   "cell_type": "markdown",
   "metadata": {},
   "source": [
    "## 3.2.2 Destination error correction \n",
    "I created below algorithm to correct the destination region clusters"
   ]
  },
  {
   "cell_type": "code",
   "execution_count": 23,
   "metadata": {},
   "outputs": [
    {
     "name": "stderr",
     "output_type": "stream",
     "text": [
      "/usr/local/lib/python3.5/dist-packages/pandas/core/groupby/groupby.py:4658: FutureWarning: using a dict with renaming is deprecated and will be removed in a future version\n",
      "  return super(DataFrameGroupBy, self).aggregate(arg, *args, **kwargs)\n"
     ]
    }
   ],
   "source": [
    "# Import math\n",
    "temp_df = pd.DataFrame(Drone_data)\n",
    "# created aggregate function to group the destination data based on mean values of latitude and longitude\n",
    "aggregate = {'Destination Latitude' :{'latitude_mean': 'mean'},'Destination Longitude' :{'longitude_mean': 'mean'}}\n",
    "# created dataframe that has destination and their mean latitude and longitude values\n",
    "region_mean = temp_df.groupby('Destination Region').agg(aggregate).reset_index()\n",
    "region_mean.columns = region_mean.columns.droplevel(0)\n",
    "region_mean.rename(columns = {'':'Region'},inplace = True)\n",
    "\n",
    "# Below code finds the point which has largest distance from the mean of the cluster and assign that point to the other cluster which mean is nreat to the point.\n",
    "for i in range(1,len(pd.unique(Drone_data[pd.notnull(Drone_data['Destination Region'])]['Destination Region']))+1):\n",
    "    temp=Drone_data[Drone_data['Destination Region']==float(i)].reset_index()\n",
    "    mean_X = temp['Destination Latitude'].mean()\n",
    "    mean_Y = temp['Destination Longitude'].mean()\n",
    "    dist=[]\n",
    "    for k in range(0,len(temp)):\n",
    "        x = (float(temp.loc[k,'Destination Latitude'])-mean_X)**2 + (float(temp.loc[k,'Destination Longitude']) - mean_Y)**2\n",
    "        dist.append(round(math.sqrt(abs(x)),3))\n",
    "    if round(max(dist),0) != 0:\n",
    "        ind = dist.index(max(dist))\n",
    "        temp_x=float(Drone_data.loc[temp.loc[ind,['index']],['Destination Latitude']]['Destination Latitude'])\n",
    "        temp_y = float(Drone_data.loc[temp.loc[ind,['index']],['Destination Longitude']]['Destination Longitude'])\n",
    "        distance=[]\n",
    "        for j in range(0,len(region_mean)):\n",
    "            x = (float(region_mean.loc[j,'latitude_mean'])-temp_x)**2 + (float(region_mean.loc[j,'longitude_mean']) - mean_Y)**2\n",
    "            distance.append(round(math.sqrt(abs(x)),3))\n",
    "        if round(min(distance),0) == 0:\n",
    "            min_ind = distance.index(min(distance))\n",
    "            Drone_data.loc[temp.loc[ind,['index']],['Destination Region']] = region_mean.loc[min_ind,['Region']] \n",
    "        "
   ]
  },
  {
   "cell_type": "markdown",
   "metadata": {},
   "source": [
    "## 3.2.3. Cross checking orgion and destination region correction"
   ]
  },
  {
   "cell_type": "code",
   "execution_count": 24,
   "metadata": {},
   "outputs": [
    {
     "data": {
      "image/png": "[encoded data removed]",
      "text/plain": [
       "<Figure size 720x360 with 4 Axes>"
      ]
     },
     "metadata": {},
     "output_type": "display_data"
    }
   ],
   "source": [
    "# Plotting the latitude vs longitude based on each region \n",
    "fig = plt.figure(1)\n",
    "temp1 = Drone_data[Drone_data['Origin Region']==1.0]\n",
    "plt.subplot(2,2,1)\n",
    "plt.scatter(temp1['Origin Latitude'],temp1['Origin Longitude'])\n",
    "plt.xlabel('Oringin Latitude')\n",
    "plt.ylabel('Origin Longitude')\n",
    "plt.legend('Oigin region')\n",
    "\n",
    "temp1 = Drone_data[Drone_data['Origin Region']==12.0]\n",
    "plt.subplot(2,2,2)\n",
    "plt.scatter(temp1['Origin Latitude'],temp1['Origin Longitude'])\n",
    "plt.xlabel('Origin Latitude')\n",
    "plt.ylabel('Origin Longitude')\n",
    "plt.legend('Origin region')\n",
    "\n",
    "temp1 = Drone_data[Drone_data['Destination Region']==5.0]\n",
    "plt.subplot(2,2,3)\n",
    "plt.scatter(temp1['Destination Latitude'],temp1['Destination Longitude'])\n",
    "plt.xlabel('Destination Latitude')\n",
    "plt.ylabel('Destination Longitude')\n",
    "plt.legend('Destination region')\n",
    "\n",
    "temp1 = Drone_data[Drone_data['Destination Region']==34.0]\n",
    "plt.subplot(2,2,4)\n",
    "plt.scatter(temp1['Destination Latitude'],temp1['Destination Longitude'])\n",
    "plt.xlabel('Destination Latitude')\n",
    "plt.ylabel('Destination Longitude')\n",
    "plt.legend('Destination region')\n",
    "fig.set_figheight(5)\n",
    "fig.set_figwidth(10)\n",
    "\n",
    "\n",
    "plt.show()"
   ]
  },
  {
   "cell_type": "markdown",
   "metadata": {},
   "source": [
    "# 3.3 Semantic errors in Departure Time and Delivery Time\n",
    "\n",
    "There are some errors in Departure Time and Delivery Time. To overcome those erros I created below algorithm with takes Travel time as a reference and finds errors in Depature Time.\n",
    "\n",
    "Below algorithm clears two errors those are:\n",
    "\n",
    " * In some rows Delivery Time and Departure Time are swapped which give us worng time difference\n",
    " * In some case Travel Time is wrong in such cases, Delivery time and Departure time difference is correct\n",
    " "
   ]
  },
  {
   "cell_type": "code",
   "execution_count": 25,
   "metadata": {},
   "outputs": [],
   "source": [
    "# Defined timecal function to find and remove the errors\n",
    "def timecal(t1,t2,f):\n",
    "    time_split = t1.split(':')\n",
    "    time_split1 = t2.split(':')  \n",
    "    if int(time_split[0]) > int(time_split1[0]) :\n",
    "        if len(str(int(time_split[0])))!= 1 & len(str(int(time_split1[0])))!= 1:\n",
    "            t1_secs = int(time_split[0])*3600+int(time_split[1])*60+int(time_split[2])\n",
    "            t2_secs = int(time_split1[0])*3600+int(time_split1[1])*60+int(time_split1[2])\n",
    "            T = round((t2_secs - t1_secs)/60.0,2)\n",
    "        elif len(str(int(time_split[0])))!= 1 & len(str(int(time_split1[0])))== 1: \n",
    "            t1_secs = int(time_split[0])*3600+int(time_split[1])*60+int(time_split[2])\n",
    "            t2_secs = (int(time_split1[0])+24)*3600+int(time_split1[1])*60+int(time_split1[2])\n",
    "            T = round((t2_secs - t1_secs)/60.0,2)\n",
    "            if T < 0 or T > 547:\n",
    "                t1_secs = int(time_split[0])*3600+int(time_split[1])*60+int(time_split[2])\n",
    "                t2_secs = (int(time_split1[0]))*3600+int(time_split1[1])*60+int(time_split1[2])\n",
    "                T = round((t1_secs-t2_secs)/60.0,2)\n",
    "        elif len(str(int(time_split[0])))== 1 & len(str(int(time_split1[0])))!= 1:\n",
    "            t1_secs = (int(time_split[0])+24)*3600+int(time_split[1])*60+int(time_split[2])\n",
    "            t2_secs = int(time_split1[0])*3600+int(time_split1[1])*60+int(time_split1[2])\n",
    "            T = round((t2_secs - t1_secs)/60.0,2)\n",
    "            print(T)\n",
    "            if T > 547:\n",
    "                T = round((t1_secs - t2_secs)/60.0,2)\n",
    "        else:\n",
    "            t1_secs = (int(time_split[0])+24)*3600+int(time_split[1])*60+int(time_split[2])\n",
    "            t2_secs = (int(time_split1[0])+24)*3600+int(time_split1[1])*60+int(time_split1[2])\n",
    "            T = round((t2_secs - t1_secs)/60.0,2)\n",
    "        if pd.notnull(f):\n",
    "            if int(T)==int(f):\n",
    "                return (':').join(time_split)+'/'+(':').join(time_split1)\n",
    "            else:\n",
    "                if T >0:\n",
    "                    return (':').join(time_split)+'/'+(':').join(time_split1)\n",
    "                else:\n",
    "                    T = round((t1_secs - t2_secs)/60.0,2)\n",
    "                    if int(T)==int(f):\n",
    "                        return (':').join(time_split1)+'/'+(':').join(time_split)\n",
    "        else:\n",
    "            return (':').join(time_split)+'/'+(':').join(time_split1)\n",
    "    else:\n",
    "        if len(str(int(time_split[0])))== 1 and len(str(int(time_split1[0])))!= 1:\n",
    "            t1_secs = (int(time_split[0])+24)*3600+int(time_split[1])*60+int(time_split[2])\n",
    "            t2_secs = int(time_split1[0])*3600+int(time_split1[1])*60+int(time_split1[2])\n",
    "            T = round((t1_secs - t2_secs)/60.0,2)\n",
    "            if T > 547:\n",
    "                t1_secs = int(time_split[0])*3600+int(time_split[1])*60+int(time_split[2])\n",
    "                t2_secs = int(time_split1[0])*3600+int(time_split1[1])*60+int(time_split1[2])\n",
    "                T=  round((t2_secs - t1_secs)/60.0,2)\n",
    "        else:\n",
    "            t1_secs = int(time_split[0])*3600+int(time_split[1])*60+int(time_split[2])\n",
    "            t2_secs = int(time_split1[0])*3600+int(time_split1[1])*60+int(time_split1[2])\n",
    "            T = round((t2_secs - t1_secs)/60.0,2)\n",
    "        if pd.notnull(f):\n",
    "            if int(T)==int(f):\n",
    "                #print((':').join(time_split)+'/'+(':').join(time_split1)+'/'+str(T)+'/'+str(f))\n",
    "                return (':').join(time_split)+'/'+(':').join(time_split1)\n",
    "            else:\n",
    "                if T > 0 and T < 547:\n",
    "                    return (':').join(time_split)+'/'+(':').join(time_split1)\n",
    "                else:\n",
    "                    T = round((t1_secs - t2_secs)/60.0,2)\n",
    "                    if int(T)==int(f):\n",
    "                        return (':').join(time_split1)+'/'+(':').join(time_split)\n",
    "        else:\n",
    "            return (':').join(time_split1)+'/'+(':').join(time_split)\n",
    "\n",
    "# Created new T_time column in dataframe\n",
    "Drone_data['T_time'] = Drone_data.apply(lambda x: timecal(x['Departure Time'], x['Delivery Time'],pd.to_numeric(x['Travel Time'])), axis=1)\n",
    "\n",
    "# Changing the Departure Time for T_time column\n",
    "Drone_data['Departure Time'] = Drone_data['T_time'].apply(lambda x : x.split('/')[0].strip())\n",
    "# Changing the Delivery Time for T_time column\n",
    "Drone_data['Delivery Time'] = Drone_data['T_time'].apply(lambda x : x.split('/')[1].strip())\n",
    "# droping the T-time\n",
    "Drone_data = Drone_data.drop(columns=['T_time'])"
   ]
  },
  {
   "cell_type": "markdown",
   "metadata": {},
   "source": [
    "## 3.4 Semantic Errors in Journey Distance\n",
    "\n",
    "From the given latitude and longitude we can find the journey distance and impute those values. Since I'm not sure about the Journey Distance given in the dataframe "
   ]
  },
  {
   "cell_type": "code",
   "execution_count": 26,
   "metadata": {},
   "outputs": [],
   "source": [
    "# Importing required function from math\n",
    "from math import sin, cos, sqrt, atan2, radians\n",
    "# Defined distancefinder to find the distance\n",
    "def distancefinder(l1,lo1,l2,lo2):\n",
    "    # Given radius of earth in km\n",
    "    R = 6378.0\n",
    "    for i in range(0,len(Drone_data)):\n",
    "        Origin_lat = radians(l1)\n",
    "        Origin_lon = radians(lo1)\n",
    "        Dest_lat = radians(l2)\n",
    "        Dest_lon = radians(lo2)\n",
    "\n",
    "        dist_lon = Dest_lon - Origin_lon\n",
    "        dist_lat = Dest_lat - Origin_lat\n",
    "\n",
    "        a = sin(dist_lat / 2)**2 + cos(Origin_lat) * cos(Dest_lat) * sin(dist_lon/2)**2\n",
    "        c = 2 * atan2(sqrt(a), sqrt(1 - a))\n",
    "\n",
    "        return R * c\n",
    "    \n",
    "# Journey Distnace now holds claculated distance using distancefinder function\n",
    "Drone_data['Journey Distance'] = Drone_data.apply(lambda x : distancefinder(x['Origin Latitude'], x['Origin Longitude'],\n",
    "                                                                            x['Destination Latitude'],x['Destination Longitude']), axis=1)"
   ]
  },
  {
   "cell_type": "markdown",
   "metadata": {},
   "source": [
    "# 4. Missing values and Outliers"
   ]
  },
  {
   "cell_type": "markdown",
   "metadata": {},
   "source": [
    "## 4.1 Finding Drone Speeds\n",
    "\n",
    "Finding Travel time is hectic task, As I can't relay on the departue time and delivery time since there might be some errors in them. The best approach is to find the Drone speeds and use them to find the Travel time.\n",
    "\n",
    "So, below code gives landing and takeoff speed and on_route speed.\n",
    "\n",
    "Here is the equation to find the Travel time:\n",
    " $$distnace=\\frac{(5x+5y+(Traveltime-10)z)}{60}$$\n",
    " \n",
    "Where x is take_off speed\n",
    "      y is landing speed\n",
    "      z is on_route speed"
   ]
  },
  {
   "cell_type": "code",
   "execution_count": 27,
   "metadata": {},
   "outputs": [
    {
     "data": {
      "text/html": [
       "<div>\n",
       "<style scoped>\n",
       "    .dataframe tbody tr th:only-of-type {\n",
       "        vertical-align: middle;\n",
       "    }\n",
       "\n",
       "    .dataframe tbody tr th {\n",
       "        vertical-align: top;\n",
       "    }\n",
       "\n",
       "    .dataframe thead th {\n",
       "        text-align: right;\n",
       "    }\n",
       "</style>\n",
       "<table border=\"1\" class=\"dataframe\">\n",
       "  <thead>\n",
       "    <tr style=\"text-align: right;\">\n",
       "      <th></th>\n",
       "      <th>Drone Type</th>\n",
       "      <th>on_route</th>\n",
       "      <th>landing and takeoff</th>\n",
       "    </tr>\n",
       "  </thead>\n",
       "  <tbody>\n",
       "    <tr>\n",
       "      <th>0</th>\n",
       "      <td>1.0</td>\n",
       "      <td>61.000925</td>\n",
       "      <td>36.952792</td>\n",
       "    </tr>\n",
       "    <tr>\n",
       "      <th>1</th>\n",
       "      <td>2.0</td>\n",
       "      <td>64.000494</td>\n",
       "      <td>38.984826</td>\n",
       "    </tr>\n",
       "    <tr>\n",
       "      <th>2</th>\n",
       "      <td>3.0</td>\n",
       "      <td>78.003021</td>\n",
       "      <td>44.889007</td>\n",
       "    </tr>\n",
       "  </tbody>\n",
       "</table>\n",
       "</div>"
      ],
      "text/plain": [
       "   Drone Type   on_route  landing and takeoff\n",
       "0         1.0  61.000925            36.952792\n",
       "1         2.0  64.000494            38.984826\n",
       "2         3.0  78.003021            44.889007"
      ]
     },
     "execution_count": 27,
     "metadata": {},
     "output_type": "execute_result"
    }
   ],
   "source": [
    "# Import math\n",
    "import random\n",
    "\n",
    "# finding on-route speed\n",
    "on_route = []\n",
    "for i in list(pd.unique(Drone_data[pd.notnull(Drone_data['Drone Type'])]['Drone Type'])):\n",
    "    on_speed = []\n",
    "    temp_df = Drone_data[Drone_data['Drone Type']==i].reset_index()\n",
    "    for j in range(0,5):\n",
    "        eq1 = random.randrange(0,len(temp_df) , 1)\n",
    "        eq2 = random.randrange(0,len(temp_df) , 1)\n",
    "        if eq1 != eq2:\n",
    "            numer = float(abs(temp_df.loc[eq1,['Journey Distance']]-temp_df.loc[eq2,['Journey Distance']]))\n",
    "            denom = float(abs((temp_df.loc[eq1,['Travel Time']]-temp_df.loc[eq2,['Travel Time']])/60))\n",
    "            route_speed = numer/denom\n",
    "            on_speed.append(route_speed)\n",
    "    on_route.append(sum(on_speed)/len(on_speed))\n",
    "\n",
    "Drone_type = list(pd.unique(Drone_data[pd.notnull(Drone_data['Drone Type'])]['Drone Type']))\n",
    "speeds = pd.DataFrame(on_route,Drone_type).reset_index().rename(columns={'index':'Drone Type',0:'on_route'})\n",
    "\n",
    "# finding landing and takeoff speed\n",
    "land_take = []\n",
    "for i in list(pd.unique(Drone_data[pd.notnull(Drone_data['Drone Type'])]['Drone Type'])):\n",
    "    lan_take_speed = []\n",
    "    temp_df = Drone_data[Drone_data['Drone Type']==i].reset_index()\n",
    "    for j in range(0,5):\n",
    "        eq1 = random.randrange(0,len(temp_df) , 1)\n",
    "        speed = float(abs(12*(temp_df.loc[eq1,['Journey Distance']]-((float(temp_df.loc[eq1,['Travel Time']])-10)*float(speeds[speeds['Drone Type']==i]['on_route']))/60)))\n",
    "        lan_take_speed.append(speed)\n",
    "    land_take.append(sum(lan_take_speed)/len(lan_take_speed))\n",
    "lan_series = pd.Series(land_take)\n",
    "\n",
    "speeds = pd.concat([speeds,lan_series],axis=1).rename(columns={0:'landing and takeoff'})\n",
    "# speeds are stored in datframe\n",
    "speeds.sort_values('Drone Type')"
   ]
  },
  {
   "cell_type": "markdown",
   "metadata": {},
   "source": [
    "# 4.2 Filling missing values of Drone Type \n",
    "Using the Drone speeds we can find the drone type."
   ]
  },
  {
   "cell_type": "code",
   "execution_count": 28,
   "metadata": {},
   "outputs": [],
   "source": [
    "# created Dronefinder \n",
    "def Dronefinder(jd,Tt,Dt,tm):\n",
    "    Drone_list = [1.0,2.0,3.0]\n",
    "    Drone_on_speed = [61.000457,64.013976,77.999420]\n",
    "    Drone_lt_speed = [36.980867,38.379230,45.039933]\n",
    "    diff_list = []\n",
    "    diff_lt_list = []\n",
    "    if pd.notnull(Tt):\n",
    "        for i in Drone_lt_speed:\n",
    "            on_speed = (jd*60-(5*i))/(Tt-10)\n",
    "            diff = abs(Drone_on_speed[Drone_lt_speed.index(i)]-on_speed)\n",
    "            diff_list.append(diff)\n",
    "        for i in Drone_on_speed:\n",
    "            lt_speed = (jd*60-(Tt-10)*i)/5\n",
    "            diff_lt = abs(Drone_lt_speed[Drone_on_speed.index(i)]-lt_speed)\n",
    "            diff_lt_list.append(diff_lt)\n",
    "        \n",
    "        if Drone_list[diff_list.index(min(diff_list))] != Dt:\n",
    "            if Drone_list[diff_list.index(min(diff_list))]==3.0:\n",
    "                if round(diff_lt,0) != 0:\n",
    "                    return Dt\n",
    "        \n",
    "        if Drone_list[diff_list.index(min(diff_list))] == Drone_list[diff_lt_list.index(min(diff_lt_list))]:\n",
    "            return Drone_list[diff_list.index(min(diff_list))]\n",
    "    else:\n",
    "        return Dt\n",
    "        \n",
    "Drone_data['Drone_Type'] = Drone_data.apply(lambda x: Dronefinder(x['Journey Distance'],x['Travel Time'],x['Drone Type'],x),axis=1)\n",
    "          "
   ]
  },
  {
   "cell_type": "code",
   "execution_count": 29,
   "metadata": {},
   "outputs": [
    {
     "data": {
      "text/html": [
       "<div>\n",
       "<style scoped>\n",
       "    .dataframe tbody tr th:only-of-type {\n",
       "        vertical-align: middle;\n",
       "    }\n",
       "\n",
       "    .dataframe tbody tr th {\n",
       "        vertical-align: top;\n",
       "    }\n",
       "\n",
       "    .dataframe thead th {\n",
       "        text-align: right;\n",
       "    }\n",
       "</style>\n",
       "<table border=\"1\" class=\"dataframe\">\n",
       "  <thead>\n",
       "    <tr style=\"text-align: right;\">\n",
       "      <th>Drone_Type</th>\n",
       "      <th>1.0</th>\n",
       "      <th>2.0</th>\n",
       "      <th>3.0</th>\n",
       "    </tr>\n",
       "    <tr>\n",
       "      <th>Drone Type</th>\n",
       "      <th></th>\n",
       "      <th></th>\n",
       "      <th></th>\n",
       "    </tr>\n",
       "  </thead>\n",
       "  <tbody>\n",
       "    <tr>\n",
       "      <th>1.0</th>\n",
       "      <td>18668</td>\n",
       "      <td>13</td>\n",
       "      <td>8</td>\n",
       "    </tr>\n",
       "    <tr>\n",
       "      <th>2.0</th>\n",
       "      <td>23</td>\n",
       "      <td>11358</td>\n",
       "      <td>11</td>\n",
       "    </tr>\n",
       "    <tr>\n",
       "      <th>3.0</th>\n",
       "      <td>0</td>\n",
       "      <td>0</td>\n",
       "      <td>7412</td>\n",
       "    </tr>\n",
       "  </tbody>\n",
       "</table>\n",
       "</div>"
      ],
      "text/plain": [
       "Drone_Type    1.0    2.0   3.0\n",
       "Drone Type                    \n",
       "1.0         18668     13     8\n",
       "2.0            23  11358    11\n",
       "3.0             0      0  7412"
      ]
     },
     "execution_count": 29,
     "metadata": {},
     "output_type": "execute_result"
    }
   ],
   "source": [
    "# crosstab to check whether outliers in drone type are removed or not\n",
    "pd.crosstab(Drone_data[\"Drone Type\"], Drone_data[\"Drone_Type\"])"
   ]
  },
  {
   "cell_type": "markdown",
   "metadata": {},
   "source": [
    "# 4.3 Filling missing values in Travel Time\n",
    "We always have to fill travel time missing after filling missing values in Drone Type. since Travel time depends on Drone type. "
   ]
  },
  {
   "cell_type": "code",
   "execution_count": null,
   "metadata": {
    "scrolled": true
   },
   "outputs": [],
   "source": [
    "# Defined Travel_timefinder to find travel time \n",
    "def Travel_timefinder(Dt,Jd):\n",
    "    Drone_list = [1.0,2.0,3.0]\n",
    "    Drone_on_speed = [61.000457,64.013976,77.999420]\n",
    "    Drone_lt_speed = [36.980867,38.379230,45.039933]\n",
    "    num = float(Jd)-((float(Drone_lt_speed[Drone_list.index(Dt)]))/12)\n",
    "    total = 10+(num/(float(Drone_on_speed[Drone_list.index(Dt)])/60))\n",
    "    return round(total,2)\n",
    "Drone_data['Travel Time'] = Drone_data.apply(lambda x: Travel_timefinder(x['Drone_Type'],x['Journey Distance']),axis=1)\n",
    "\n",
    "def Dronetypecolumnreplacer(Dt):\n",
    "    return Dt\n",
    "\n",
    "Drone_data['Drone Type'] = Drone_data.apply(lambda x : Dronetypecolumnreplacer(x['Drone_Type']),axis=1)\n",
    "# Removing Drone_Type since Drone Type holds all values\n",
    "Drone_data = Drone_data.drop(columns=['Drone_Type'])"
   ]
  },
  {
   "cell_type": "code",
   "execution_count": 31,
   "metadata": {},
   "outputs": [
    {
     "data": {
      "image/png": "[encoded data removed]",
      "text/plain": [
       "<Figure size 432x288 with 1 Axes>"
      ]
     },
     "metadata": {},
     "output_type": "display_data"
    }
   ],
   "source": [
    "plt.scatter(Drone_data['Journey Distance'],Drone_data['Travel Time'])\n",
    "plt.show()"
   ]
  },
  {
   "cell_type": "markdown",
   "metadata": {},
   "source": [
    "Above Graph, shows no outliers in the Travel time"
   ]
  },
  {
   "cell_type": "markdown",
   "metadata": {},
   "source": [
    "## 4.4.1 Creating Dictionary of region for filling missing values\n",
    "\n",
    "Since, region has missing values have missing values to fill them I created a dictionary which have region as key and latitude and logitudes has it's values."
   ]
  },
  {
   "cell_type": "code",
   "execution_count": 32,
   "metadata": {},
   "outputs": [],
   "source": [
    "# temp_df is created which has origin data\n",
    "temp_df = Drone_data[pd.notnull(Drone_data['Origin Region'])&pd.notnull(Drone_data['Origin Latitude'])&pd.notnull(Drone_data['Origin Longitude'])].reset_index()\n",
    "\n",
    "# dictionary is created\n",
    "loca = {}\n",
    "for i in range(0,len(temp_df)):\n",
    "    if temp_df.loc[i,'Origin Region'] not in loca.keys():\n",
    "        loca[temp_df.loc[i,'Origin Region']] = [str(temp_df.loc[i,'Origin Latitude'])+'/'+str(temp_df.loc[i,'Origin Longitude'])]\n",
    "    else:\n",
    "        loca[temp_df.loc[i,'Origin Region']].append(str(temp_df.loc[i,'Origin Latitude'])+'/'+str(temp_df.loc[i,'Origin Longitude']))\n",
    "# temp_df is created which has destination data\n",
    "temp_df = Drone_data[pd.notnull(Drone_data['Destination Region'])&pd.notnull(Drone_data['Destination Latitude'])&pd.notnull(Drone_data['Destination Longitude'])].reset_index()\n",
    "\n",
    "# loca desctionary has all the value\n",
    "for i in range(0,len(temp_df)):\n",
    "    if temp_df.loc[i,'Destination Region'] not in loca.keys():\n",
    "        loca[temp_df.loc[i,'Destination Region']] = [str(temp_df.loc[i,'Destination Latitude'])+'/'+str(temp_df.loc[i,'Destination Longitude'])]\n",
    "    else:\n",
    "        loca[temp_df.loc[i,'Destination Region']].append(str(temp_df.loc[i,'Destination Latitude'])+'/'+str(temp_df.loc[i,'Destination Longitude']))"
   ]
  },
  {
   "cell_type": "markdown",
   "metadata": {},
   "source": [
    "## 4.4.2 Origin  Region Missing values imputation\n",
    "imputing region values using the loca dictionary created above"
   ]
  },
  {
   "cell_type": "code",
   "execution_count": 33,
   "metadata": {},
   "outputs": [],
   "source": [
    "temp_df = Drone_data[pd.isnull(Drone_data['Origin Region'])][['Origin Latitude','Origin Longitude']].reset_index()\n",
    "\n",
    "loc_list = []\n",
    "for i in range(0,len(temp_df)):\n",
    "    loc_list.append(str(temp_df.loc[i,'Origin Latitude'])+'/'+str(temp_df.loc[i,'Origin Longitude']))\n",
    "\n",
    "k  = []\n",
    "for i in loc_list:\n",
    "    for j in loca.keys():\n",
    "        flag = 0\n",
    "        if i in loca[j]:\n",
    "            flag = 1\n",
    "            value = j\n",
    "            break\n",
    "    if flag == 1:\n",
    "        k.append(value)\n",
    "    else:\n",
    "        k.append('NaN')\n",
    "loc = pd.Series(k)\n",
    "temp_df['Region'] = loc\n",
    "\n",
    "for i in range(0,len(temp_df)):\n",
    "    if temp_df.loc[i,'Region']!='NaN':\n",
    "        Drone_data.loc[temp_df.loc[i,'index'],'Origin Region'] = float(temp_df.loc[i,['Region']])"
   ]
  },
  {
   "cell_type": "markdown",
   "metadata": {},
   "source": [
    "## 4.4.3 Destination region Missing values imputation\n",
    "Imputing Destination regions using loca dictionary created above"
   ]
  },
  {
   "cell_type": "code",
   "execution_count": 34,
   "metadata": {},
   "outputs": [],
   "source": [
    "temp_df = Drone_data[pd.isnull(Drone_data['Destination Region'])][['Destination Latitude','Destination Longitude']].reset_index()\n",
    "\n",
    "loc_list = []\n",
    "for i in range(0,len(temp_df)):\n",
    "    loc_list.append(str(temp_df.loc[i,'Destination Latitude'])+'/'+str(temp_df.loc[i,'Destination Longitude']))\n",
    "\n",
    "k  = []\n",
    "for i in loc_list:\n",
    "    for j in loca.keys():\n",
    "        flag = 0\n",
    "        if i in loca[j]:\n",
    "            flag = 1\n",
    "            value = j\n",
    "            break\n",
    "    if flag == 1:\n",
    "        k.append(value)\n",
    "    else:\n",
    "        k.append('NaN')\n",
    "loc = pd.Series(k)\n",
    "temp_df['Region'] = loc\n",
    "\n",
    "for i in range(0,len(temp_df)):\n",
    "    if temp_df.loc[i,'Region']!='NaN':\n",
    "        Drone_data.loc[temp_df.loc[i,'index'],'Destination Region'] = float(temp_df.loc[i,['Region']])"
   ]
  },
  {
   "cell_type": "markdown",
   "metadata": {},
   "source": [
    "## 4.4.4 Filling the left NaN values in Origin region and Destination Region\n",
    "\n",
    "The left out nan vales in Origin and destination is done by using the Navie Bayes Classfier which is quite effective in classifying the values"
   ]
  },
  {
   "cell_type": "code",
   "execution_count": 35,
   "metadata": {},
   "outputs": [
    {
     "name": "stdout",
     "output_type": "stream",
     "text": [
      "       Destination Latitude  Destination Longitude\n",
      "4144             -37.724657             143.628840\n",
      "16430            -37.221258             145.329428\n",
      "21355            -38.608902             146.201006\n",
      "24887            -37.949679             146.621775\n",
      "35891            -36.718394             147.562438\n"
     ]
    }
   ],
   "source": [
    "# NaN value dataframe of origin region and destination region\n",
    "Origin_Nan = Drone_data[pd.isnull(Drone_data['Origin Region'])][['Origin Latitude','Origin Longitude']]\n",
    "Destination_Nan = Drone_data[pd.isnull(Drone_data['Destination Region'])][['Destination Latitude','Destination Longitude']]\n",
    "print(Destination_Nan)\n",
    "# creating the train data from both Origin and Destination region and their coordinates\n",
    "origin_df = Drone_data[pd.notnull(Drone_data['Origin Region'])][['Origin Region','Origin Latitude','Origin Longitude']].reset_index().drop(columns=['index'])\n",
    "dest_df = Drone_data[pd.notnull(Drone_data['Destination Region'])][['Destination Region','Destination Latitude','Destination Longitude']].reset_index().drop(columns=['index'])\n",
    "dest_df = dest_df.rename(columns = {'Destination Region':'Origin Region','Destination Latitude':'Origin Latitude','Destination Longitude':'Origin Longitude'})\n",
    "\n",
    "\n",
    "origin_X = origin_df[['Origin Latitude','Origin Longitude']]\n",
    "origin_Y = origin_df['Origin Region']\n",
    "train_X = pd.concat([origin_X,dest_df[['Origin Latitude','Origin Longitude']]]).reset_index().drop(columns=['index'])\n",
    "train_Y = pd.concat([origin_Y,dest_df['Origin Region']]).reset_index().drop(columns=['index'])\n"
   ]
  },
  {
   "cell_type": "markdown",
   "metadata": {},
   "source": [
    "## 4.4.5 Navie Bayes algorithm to predict the Region\n",
    "The left out nan vales in Origin and destination is done by using the Navie Bayes Classfier which is quite effective in classifying the values"
   ]
  },
  {
   "cell_type": "code",
   "execution_count": 36,
   "metadata": {},
   "outputs": [
    {
     "name": "stderr",
     "output_type": "stream",
     "text": [
      "/usr/local/lib/python3.5/dist-packages/sklearn/utils/validation.py:578: DataConversionWarning: A column-vector y was passed when a 1d array was expected. Please change the shape of y to (n_samples, ), for example using ravel().\n",
      "  y = column_or_1d(y, warn=True)\n"
     ]
    }
   ],
   "source": [
    "\n",
    "gnb = GaussianNB()\n",
    "\n",
    "Navie_model = gnb.fit(train_X, train_Y)\n",
    "origin_region=Navie_model.predict(Origin_Nan)\n",
    "nan_index =  Drone_data[pd.isnull(Drone_data['Origin Region'])]['Origin Region'].reset_index()\n",
    "for i in range(0,len(nan_index)):\n",
    "    Drone_data.loc[nan_index.loc[i,'index'],'Origin Region'] = float(origin_region[i])\n",
    "    \n",
    "\n",
    "dest_region = Navie_model.predict(Destination_Nan)\n",
    "nan_index = Drone_data[pd.isnull(Drone_data['Destination Region'])]['Destination Region'].reset_index()\n",
    "for i in range(0,len(nan_index)):\n",
    "    Drone_data.loc[nan_index.loc[i,'index'],'Destination Region'] = float(dest_region[i])"
   ]
  },
  {
   "cell_type": "markdown",
   "metadata": {},
   "source": [
    "## 4.5 Removing missing values in Id's column\n",
    "\n",
    "Id has missing values which can be overcomed with any algorithm or any relation. But, has some repeating values which implies there are sime dulicates in the data\n"
   ]
  },
  {
   "cell_type": "code",
   "execution_count": 37,
   "metadata": {},
   "outputs": [
    {
     "data": {
      "text/plain": [
       "count            37479\n",
       "unique           37443\n",
       "top       ID1845177614\n",
       "freq                 2\n",
       "Name: Id, dtype: object"
      ]
     },
     "execution_count": 37,
     "metadata": {},
     "output_type": "execute_result"
    }
   ],
   "source": [
    "Drone_data['Id'].describe()"
   ]
  },
  {
   "cell_type": "code",
   "execution_count": 38,
   "metadata": {},
   "outputs": [],
   "source": [
    "Drone_data.drop_duplicates(subset=['Package Weight','Departure Date','Departure Date','Post Type','Origin Region','Destination Region'], keep='first', inplace=True)"
   ]
  },
  {
   "cell_type": "markdown",
   "metadata": {},
   "source": [
    "Using above command I complete remove all duplicate rows in the dataframe."
   ]
  },
  {
   "cell_type": "code",
   "execution_count": 39,
   "metadata": {},
   "outputs": [
    {
     "data": {
      "text/plain": [
       "count            37443\n",
       "unique           37443\n",
       "top       ID1912206640\n",
       "freq                 1\n",
       "Name: Id, dtype: object"
      ]
     },
     "execution_count": 39,
     "metadata": {},
     "output_type": "execute_result"
    }
   ],
   "source": [
    "Drone_data['Id'].describe()"
   ]
  },
  {
   "cell_type": "markdown",
   "metadata": {},
   "source": [
    "It's Suprising that, all nan values disappear which means all nan rows are duplicates that are removed in the process of cleaning the data."
   ]
  },
  {
   "cell_type": "code",
   "execution_count": 40,
   "metadata": {},
   "outputs": [
    {
     "data": {
      "text/html": [
       "<div>\n",
       "<style scoped>\n",
       "    .dataframe tbody tr th:only-of-type {\n",
       "        vertical-align: middle;\n",
       "    }\n",
       "\n",
       "    .dataframe tbody tr th {\n",
       "        vertical-align: top;\n",
       "    }\n",
       "\n",
       "    .dataframe thead th {\n",
       "        text-align: right;\n",
       "    }\n",
       "</style>\n",
       "<table border=\"1\" class=\"dataframe\">\n",
       "  <thead>\n",
       "    <tr style=\"text-align: right;\">\n",
       "      <th></th>\n",
       "      <th>Id</th>\n",
       "      <th>Drone Type</th>\n",
       "      <th>Post Type</th>\n",
       "      <th>Package Weight</th>\n",
       "      <th>Origin Region</th>\n",
       "      <th>Destination Region</th>\n",
       "      <th>Origin Latitude</th>\n",
       "      <th>Origin Longitude</th>\n",
       "      <th>Destination Latitude</th>\n",
       "      <th>Destination Longitude</th>\n",
       "      <th>Journey Distance</th>\n",
       "      <th>Departure Date</th>\n",
       "      <th>Departure Time</th>\n",
       "      <th>Travel Time</th>\n",
       "      <th>Delivery Time</th>\n",
       "      <th>Delivery Fare</th>\n",
       "    </tr>\n",
       "  </thead>\n",
       "  <tbody>\n",
       "  </tbody>\n",
       "</table>\n",
       "</div>"
      ],
      "text/plain": [
       "Empty DataFrame\n",
       "Columns: [Id, Drone Type, Post Type, Package Weight, Origin Region, Destination Region, Origin Latitude, Origin Longitude, Destination Latitude, Destination Longitude, Journey Distance, Departure Date, Departure Time, Travel Time, Delivery Time, Delivery Fare]\n",
       "Index: []"
      ]
     },
     "execution_count": 40,
     "metadata": {},
     "output_type": "execute_result"
    }
   ],
   "source": [
    "Drone_data[pd.isnull(Drone_data['Id'])]"
   ]
  },
  {
   "cell_type": "markdown",
   "metadata": {},
   "source": [
    "## 4.6 Removing missing values in Post Type\n",
    "\n",
    "I found that Post Type is somehow interlinked with the Id row since\n",
    "\n",
    "when: \n",
    "     Id has ID followed by '5' the Post Type is 1.0\n",
    "     \n",
    "     Id has ID followed by '1' the post Type is 0.0\n",
    "     \n",
    "Using this information i imputed all the nan values in post type\n"
   ]
  },
  {
   "cell_type": "code",
   "execution_count": 41,
   "metadata": {},
   "outputs": [],
   "source": [
    "def posttypeformatter(s):\n",
    "    postidentifier = re.findall(r'ID(\\d{1}).*',s)\n",
    "    if postidentifier[0] == '1':\n",
    "        return 0.0\n",
    "    elif postidentifier[0] == '5':\n",
    "        return 1.0\n",
    "    else :\n",
    "        return None\n",
    "Drone_data['Post Type'] = Drone_data['Id'].apply(lambda x: posttypeformatter(x))"
   ]
  },
  {
   "cell_type": "markdown",
   "metadata": {},
   "source": [
    "## 4.7  Removing missing values in Delivery Fare"
   ]
  },
  {
   "cell_type": "code",
   "execution_count": 42,
   "metadata": {},
   "outputs": [
    {
     "data": {
      "image/png": "[encoded data removed]",
      "text/plain": [
       "<Figure size 432x288 with 4 Axes>"
      ]
     },
     "metadata": {},
     "output_type": "display_data"
    }
   ],
   "source": [
    "fig = plt.figure()\n",
    "plt.subplot(2,2,1)\n",
    "tem1_df = Drone_data[Drone_data['Package Weight']>40]\n",
    "plt.scatter(tem1_df['Delivery Fare'],tem1_df['Journey Distance'])\n",
    "plt.subplot(2,2,2)\n",
    "tem2_df = Drone_data[(Drone_data['Package Weight']<40)&(Drone_data['Drone Type']==1.0) ]\n",
    "plt.scatter(tem2_df['Delivery Fare'],tem2_df['Journey Distance'])\n",
    "plt.subplot(2,2,3)\n",
    "tem2_df = Drone_data[(Drone_data['Package Weight']<40)&(Drone_data['Drone Type']==2.0) ]\n",
    "plt.scatter(tem2_df['Delivery Fare'],tem2_df['Journey Distance'])\n",
    "plt.subplot(2,2,4)\n",
    "tem2_df = Drone_data[(Drone_data['Package Weight']<40)&(Drone_data['Drone Type']==3.0) ]\n",
    "plt.scatter(tem2_df['Delivery Fare'],tem2_df['Journey Distance'])\n",
    "plt.show()"
   ]
  },
  {
   "cell_type": "markdown",
   "metadata": {},
   "source": [
    "From the above graph, I strongly believe that delivery fare is in relation with Drone Type, Package weight and Journey Distance.\n",
    "So, I built linear regression using that data.\n",
    "\n",
    "I also found the correlation among above mentioned parameters from the correlation matrix created above."
   ]
  },
  {
   "cell_type": "code",
   "execution_count": 43,
   "metadata": {},
   "outputs": [],
   "source": [
    "from sklearn.linear_model import LinearRegression\n",
    "\n",
    "temp = Drone_data[pd.notnull(Drone_data['Delivery Fare'])]\n",
    "reg = LinearRegression().fit(temp[['Drone Type','Package Weight','Journey Distance']],temp['Delivery Fare'])\n",
    "reg\n",
    "\n",
    "Nan_df = Drone_data[pd.isnull(Drone_data['Delivery Fare'])].reset_index()\n",
    "Fare_predict = reg.predict(Nan_df[['Drone Type','Package Weight','Journey Distance']])\n",
    "\n",
    "for i in range(0,len(Nan_df)):\n",
    "    Drone_data.loc[Nan_df.loc[i,'index'],['Delivery Fare']] = Fare_predict[i]"
   ]
  },
  {
   "cell_type": "markdown",
   "metadata": {},
   "source": [
    "## 4.7.1 cross checking Delievery Fare imputation "
   ]
  },
  {
   "cell_type": "code",
   "execution_count": 44,
   "metadata": {},
   "outputs": [
    {
     "data": {
      "image/png": "[encoded data removed]",
      "text/plain": [
       "<Figure size 432x288 with 4 Axes>"
      ]
     },
     "metadata": {},
     "output_type": "display_data"
    }
   ],
   "source": [
    "fig = plt.figure()\n",
    "plt.subplot(2,2,1)\n",
    "tem1_df = Drone_data[Drone_data['Package Weight']>40]\n",
    "plt.scatter(tem1_df['Delivery Fare'],tem1_df['Journey Distance'])\n",
    "plt.subplot(2,2,2)\n",
    "tem2_df = Drone_data[(Drone_data['Package Weight']<40)&(Drone_data['Drone Type']==1.0) ]\n",
    "plt.scatter(tem2_df['Delivery Fare'],tem2_df['Journey Distance'])\n",
    "plt.subplot(2,2,3)\n",
    "tem2_df = Drone_data[(Drone_data['Package Weight']<40)&(Drone_data['Drone Type']==2.0) ]\n",
    "plt.scatter(tem2_df['Delivery Fare'],tem2_df['Journey Distance'])\n",
    "plt.subplot(2,2,4)\n",
    "tem2_df = Drone_data[(Drone_data['Package Weight']<40)&(Drone_data['Drone Type']==3.0) ]\n",
    "plt.scatter(tem2_df['Delivery Fare'],tem2_df['Journey Distance'])\n",
    "plt.show()"
   ]
  },
  {
   "cell_type": "markdown",
   "metadata": {},
   "source": [
    "There is so change in plots. Hence My linear model is accurate in predicting the Delivery Fare"
   ]
  },
  {
   "cell_type": "markdown",
   "metadata": {},
   "source": [
    "# 5. Finally Data is clean\n",
    "\n",
    "Hence, data is clean without any errors I'm writing dataframe to the file "
   ]
  },
  {
   "cell_type": "code",
   "execution_count": 45,
   "metadata": {},
   "outputs": [],
   "source": [
    "Drone_data.to_csv('29424143_solution.csv', encoding='utf-8', index=False)"
   ]
  }
 ],
 "metadata": {
  "kernelspec": {
   "display_name": "Python 3",
   "language": "python",
   "name": "python3"
  },
  "language_info": {
   "codemirror_mode": {
    "name": "ipython",
    "version": 3
   },
   "file_extension": ".py",
   "mimetype": "text/x-python",
   "name": "python",
   "nbconvert_exporter": "python",
   "pygments_lexer": "ipython3",
   "version": "3.5.2"
  }
 },
 "nbformat": 4,
 "nbformat_minor": 2
}
